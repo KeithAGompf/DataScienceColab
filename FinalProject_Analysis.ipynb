{
  "nbformat": 4,
  "nbformat_minor": 0,
  "metadata": {
    "colab": {
      "provenance": []
    },
    "kernelspec": {
      "name": "python3",
      "display_name": "Python 3"
    },
    "language_info": {
      "name": "python"
    }
  },
  "cells": [
    {
      "cell_type": "markdown",
      "source": [
        "# Imports"
      ],
      "metadata": {
        "id": "5lVwt7Ws49A1"
      }
    },
    {
      "cell_type": "code",
      "execution_count": null,
      "metadata": {
        "id": "OyQPK6y1vX6l",
        "cellView": "form"
      },
      "outputs": [],
      "source": [
        "#@title\n",
        "import seaborn as sns\n",
        "import pandas as pd\n",
        "import numpy as np"
      ]
    },
    {
      "cell_type": "markdown",
      "source": [
        "**Why Diamonds?**"
      ],
      "metadata": {
        "id": "ONcgPsYNXz5Q"
      }
    },
    {
      "cell_type": "markdown",
      "source": [
        "We first thought it would be interesting to know about diamonds since they are quite complex and knowing how they are appraised is a cool skill to have. Another reason for building this model or having this knowledge was that it could be useful. Lets say that you just inheritated a diamond and no nothing about diamond specifics like most people. You can try and look online for a price evaluation however there isnt a good model on evaluating them or accurate results across multipe sites. You could also take it to a pawn shop where they will lowball you and cheat you out of your money. Taking it to a jewlery store is always your best option."
      ],
      "metadata": {
        "id": "4vRTzr8hYHvu"
      }
    },
    {
      "cell_type": "markdown",
      "source": [
        "# Analysis"
      ],
      "metadata": {
        "id": "gCFice-25CJm"
      }
    },
    {
      "cell_type": "markdown",
      "source": [
        "When looking at price per color we noticed that the graph was the complete opposite of what we expected. The lowest rating colors for some reason had the highest price compared to the colors which were perfect."
      ],
      "metadata": {
        "id": "IrNQq_Mr5EMS"
      }
    },
    {
      "cell_type": "code",
      "source": [
        "#@title\n",
        "#load the diamonds data set\n",
        "diamonds = sns.load_dataset('diamonds')\n",
        "carat_by_color = diamonds.groupby('color')['carat'].mean()\n",
        "print(carat_by_color)\n",
        "#This code shows the average carat per each color to conclude if the carat size is equal throughout"
      ],
      "metadata": {
        "colab": {
          "base_uri": "https://localhost:8080/"
        },
        "id": "BTn77acR5DrS",
        "outputId": "55248712-8848-43d0-eab1-029a1571c685"
      },
      "execution_count": null,
      "outputs": [
        {
          "output_type": "stream",
          "name": "stdout",
          "text": [
            "color\n",
            "D    0.657795\n",
            "E    0.657867\n",
            "F    0.736538\n",
            "G    0.771190\n",
            "H    0.911799\n",
            "I    1.026927\n",
            "J    1.162137\n",
            "Name: carat, dtype: float64\n"
          ]
        }
      ]
    },
    {
      "cell_type": "markdown",
      "source": [
        "I and J are shown to be the highest for price and this may be due to the fact that we have the least amount of data about them compared to the others. This could explain a bit, but it is still weird as to why D and E are the lowest. I and J could also be valued at more than D or E due to the fact that the I and J diamonds we are given are on average bigger than every other diamond which does mean the price will be higher"
      ],
      "metadata": {
        "id": "JTuHLuYW5cuL"
      }
    },
    {
      "cell_type": "code",
      "source": [
        "diamonds[\"clarity\"].value_counts()"
      ],
      "metadata": {
        "colab": {
          "base_uri": "https://localhost:8080/"
        },
        "id": "2ZNOM4PV5tG_",
        "outputId": "4005948c-cdf1-4928-aa2c-5888287c92e3"
      },
      "execution_count": null,
      "outputs": [
        {
          "output_type": "execute_result",
          "data": {
            "text/plain": [
              "SI1     13065\n",
              "VS2     12258\n",
              "SI2      9194\n",
              "VS1      8171\n",
              "VVS2     5066\n",
              "VVS1     3655\n",
              "IF       1790\n",
              "I1        741\n",
              "Name: clarity, dtype: int64"
            ]
          },
          "metadata": {},
          "execution_count": 3
        }
      ]
    },
    {
      "cell_type": "markdown",
      "source": [
        "Looking at the clarities it seems like our info can easily have some bias becuase the I1's represent 1.3% of the clarities we are given. If this were perfect data we would have 6,700 samples of each which is 12.5% of the total. This would allow a more accurate prediction for every clarity and not just favor some over others."
      ],
      "metadata": {
        "id": "rVvXX9Ut50np"
      }
    }
  ]
}